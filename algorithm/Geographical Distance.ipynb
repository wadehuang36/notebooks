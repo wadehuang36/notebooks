{
 "cells": [
  {
   "cell_type": "markdown",
   "metadata": {},
   "source": [
    "## Haversine Formula\n",
    "\n",
    "Source From https://en.wikipedia.org/wiki/Haversine_formula\n",
    "\n",
    "$$ \n",
    "{\\displaystyle \\operatorname {hav} \\left({\\frac {d}{r}}\\right)=\\operatorname {hav} (\\varphi _{2}-\\varphi _{1})+\\cos(\\varphi _{1})\\cos(\\varphi _{2})\\operatorname {hav} (\\lambda _{2}-\\lambda _{1})}\n",
    "$$\n",
    "\n",
    "- hav is the haversine function\n",
    "\n",
    "$$ \n",
    "\\operatorname {hav} (\\theta )=\\sin ^{2}\\left({\\frac {\\theta }{2}}\\right)={\\frac {1-\\cos(\\theta )}{2}} \n",
    "$$\n",
    "\n",
    "- d is the distance between the two points (along a great circle of the sphere; see spherical distance),\n",
    "- r is the radius of the sphere,\n",
    "- φ1, φ2: latitude of point 1 and latitude of point 2, in radians\n",
    "- λ1, λ2: longitude of point 1 and longitude of point 2, in radians\n",
    "\n",
    "> convert to radians =  $  degree \\times {\\frac {180}{\\pi}} $ \n",
    "\n",
    "\n",
    "## hav can be\n",
    "\n",
    "$$ {d=2r\\arcsin \\left({\\sqrt {\\operatorname {hav} (\\varphi _{2}-\\varphi _{1})+\\cos(\\varphi _{1})\\cos(\\varphi _{2})\\operatorname {hav} (\\lambda _{2}-\\lambda _{1})}}\\right)} $$\n",
    "\n",
    "$$ {\\displaystyle =2r\\arcsin \\left({\\sqrt {\\sin ^{2}\\left({\\frac {\\varphi _{2}-\\varphi _{1}}{2}}\\right)+\\cos(\\varphi _{1})\\cos(\\varphi _{2})\\sin ^{2}\\left({\\frac {\\lambda _{2}-\\lambda _{1}}{2}}\\right)}}\\right)} $$"
   ]
  },
  {
   "cell_type": "code",
   "execution_count": 30,
   "metadata": {
    "collapsed": false
   },
   "outputs": [],
   "source": [
    "import math;\n",
    "\n",
    "RADIUS_IN_KM = 6371.009\n",
    "RADIUS_IN_MI = 3958.761\n",
    "\n",
    "DEGREE_PRE_RADIANS = math.pi / 180;\n",
    "\n",
    "def degreesToRedians(d):\n",
    "    return d * DEGREE_PRE_RADIANS \n",
    "\n",
    "def distance(lat1, lon1, lat2, lon2, radisu=RADIUS_IN_KM):\n",
    "    rLat1 = degreesToRedians(lat1)\n",
    "    rLat2 = degreesToRedians(lat2)\n",
    "    rLon1 = degreesToRedians(lon1)\n",
    "    rLon2 = degreesToRedians(lon2)\n",
    "    \n",
    "    # inside square root\n",
    "    step1 = math.sin((rLat2 - rLat1) / 2) ** 2 + \\\n",
    "            math.cos(rLat1) * math.cos(rLat2) * \\\n",
    "            math.sin((rLon2 - rLon1) / 2) ** 2\n",
    "    \n",
    "    # arcsin (step1)\n",
    "    step2 = math.atan2(step1 ** 0.5, (1 - step1) ** 0.5)\n",
    "    \n",
    "    # 2 * r * step2\n",
    "    d = 2 * radisu * step2\n",
    "    \n",
    "    return d"
   ]
  },
  {
   "cell_type": "code",
   "execution_count": 32,
   "metadata": {
    "collapsed": false
   },
   "outputs": [
    {
     "name": "stdout",
     "output_type": "stream",
     "text": [
      "-0.013224359742361025 0.01641831227351087 8.282335393043156e-05 0.00910085933309372 115.96331343774818\n"
     ]
    },
    {
     "data": {
      "text/plain": [
       "115.96331343774818"
      ]
     },
     "execution_count": 32,
     "metadata": {},
     "output_type": "execute_result"
    }
   ],
   "source": [
    "distance(40.7577, -73.9407, 40, -73)"
   ]
  },
  {
   "cell_type": "code",
   "execution_count": 33,
   "metadata": {
    "collapsed": false
   },
   "outputs": [
    {
     "name": "stdout",
     "output_type": "stream",
     "text": [
      "-0.013224359742361025 0.01641831227351087 8.282335393043156e-05 0.00910085933309372 72.05625398867485\n"
     ]
    },
    {
     "data": {
      "text/plain": [
       "72.05625398867485"
      ]
     },
     "execution_count": 33,
     "metadata": {},
     "output_type": "execute_result"
    }
   ],
   "source": [
    "distance(40.7577, -73.9407, 40, -73, RADIUS_IN_MI)"
   ]
  },
  {
   "cell_type": "code",
   "execution_count": null,
   "metadata": {
    "collapsed": true
   },
   "outputs": [],
   "source": []
  }
 ],
 "metadata": {
  "kernelspec": {
   "display_name": "Python 3",
   "language": "python",
   "name": "python3"
  },
  "language_info": {
   "codemirror_mode": {
    "name": "ipython",
    "version": 3
   },
   "file_extension": ".py",
   "mimetype": "text/x-python",
   "name": "python",
   "nbconvert_exporter": "python",
   "pygments_lexer": "ipython3",
   "version": "3.6.0"
  }
 },
 "nbformat": 4,
 "nbformat_minor": 2
}
