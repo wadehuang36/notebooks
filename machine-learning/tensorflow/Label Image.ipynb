{
 "cells": [
  {
   "cell_type": "markdown",
   "metadata": {},
   "source": [
    "From https://github.com/tensorflow/tensorflow/blob/master/tensorflow/examples/label_image/label_image.py\n",
    "\n",
    "you can run the script to get result\n",
    "\n",
    "```\n",
    "python label_image.py --image=image_path \\\n",
    "    --graph=graph_path \\\n",
    "    --labels=labels.txt \\ \n",
    "    --output_layer=MobilenetV1/Predictions/Reshape_1\n",
    "```\n",
    "\n",
    "Before run the script, you have to run Freeze Graph Script."
   ]
  },
  {
   "cell_type": "code",
   "execution_count": 1,
   "metadata": {
    "collapsed": true
   },
   "outputs": [],
   "source": [
    "import tensorflow as tf\n",
    "import numpy as np\n",
    "\n",
    "slim = tf.contrib.slim"
   ]
  },
  {
   "cell_type": "code",
   "execution_count": 2,
   "metadata": {
    "collapsed": true
   },
   "outputs": [],
   "source": [
    "image_file = \"/notebooks/images/car.jpg\"\n",
    "graph_file = \"./.mobilenet_v1/mobilenet_v1.pb\"\n",
    "label_file = \"./.mobilenet_v1/labels.txt\"\n",
    "input_node_name = \"import/input\"\n",
    "output_node_name = \"import/MobilenetV1/Predictions/Reshape_1\""
   ]
  },
  {
   "cell_type": "code",
   "execution_count": 3,
   "metadata": {
    "collapsed": true
   },
   "outputs": [],
   "source": [
    "def load_graph():\n",
    "    graph = tf.Graph()\n",
    "    graph_def = tf.GraphDef()\n",
    "\n",
    "    with open(graph_file, \"rb\") as f:\n",
    "        graph_def.ParseFromString(f.read())\n",
    "    with graph.as_default():\n",
    "        tf.import_graph_def(graph_def)\n",
    "\n",
    "    return graph"
   ]
  },
  {
   "cell_type": "code",
   "execution_count": 4,
   "metadata": {
    "collapsed": true
   },
   "outputs": [],
   "source": [
    "def read_tensor_from_image_file(input_height=224, input_width=224,\n",
    "                                input_mean=0, input_std=255):\n",
    "    input_name = \"file_reader\"\n",
    "    output_name = \"normalized\"\n",
    "    file_reader = tf.read_file(image_file, input_node_name)\n",
    "    if image_file.endswith(\".png\"):\n",
    "        image_reader = tf.image.decode_png(file_reader, channels=3,\n",
    "                                           name='png_reader')\n",
    "    elif image_file.endswith(\".gif\"):\n",
    "        image_reader = tf.squeeze(tf.image.decode_gif(file_reader,\n",
    "                                                      name='gif_reader'))\n",
    "    elif image_file.endswith(\".bmp\"):\n",
    "        image_reader = tf.image.decode_bmp(file_reader, name='bmp_reader')\n",
    "    else:\n",
    "        image_reader = tf.image.decode_jpeg(file_reader, channels=3,\n",
    "                                            name='jpeg_reader')\n",
    "        \n",
    "    float_caster = tf.cast(image_reader, tf.float32)\n",
    "    dims_expander = tf.expand_dims(float_caster, 0)\n",
    "    resized = tf.image.resize_bilinear(\n",
    "        dims_expander, [input_height, input_width])\n",
    "    normalized = tf.divide(tf.subtract(resized, [input_mean]), [input_std])\n",
    "    sess = tf.Session()\n",
    "    result = sess.run(normalized)\n",
    "\n",
    "    return result"
   ]
  },
  {
   "cell_type": "code",
   "execution_count": 5,
   "metadata": {
    "collapsed": true
   },
   "outputs": [],
   "source": [
    "def load_labels():\n",
    "    label = []\n",
    "    proto_as_ascii_lines = tf.gfile.GFile(label_file).readlines()\n",
    "    for l in proto_as_ascii_lines:\n",
    "        label.append(l.rstrip())\n",
    "    return label"
   ]
  },
  {
   "cell_type": "code",
   "execution_count": 7,
   "metadata": {
    "collapsed": false
   },
   "outputs": [
    {
     "name": "stdout",
     "output_type": "stream",
     "text": [
      "818:sports car, sport car 0.932937\n",
      "752:racer, race car, racing car 0.0281193\n",
      "512:convertible 0.0192136\n",
      "437:beach wagon, station wagon, wagon, estate car, beach waggon, station waggon, waggon 0.0091449\n",
      "582:grille, radiator grille 0.0074993\n"
     ]
    }
   ],
   "source": [
    "graph = load_graph()\n",
    "input_operation = graph.get_operation_by_name(input_node_name)\n",
    "output_operation = graph.get_operation_by_name(output_node_name)\n",
    "\n",
    "image = read_tensor_from_image_file()\n",
    "\n",
    "\n",
    "with tf.Session(graph=graph) as sess:\n",
    "    probabilities = sess.run(output_operation.outputs[0],\n",
    "                           {input_operation.outputs[0]: image})\n",
    "    \n",
    "    results = np.squeeze(probabilities)\n",
    "    \n",
    "top_k = results.argsort()[-5:][::-1]\n",
    "\n",
    "labels = load_labels()\n",
    "for i in top_k:\n",
    "    print(labels[i], results[i])"
   ]
  }
 ],
 "metadata": {
  "kernelspec": {
   "display_name": "Python 3",
   "language": "python",
   "name": "python3"
  },
  "language_info": {
   "codemirror_mode": {
    "name": "ipython",
    "version": 3
   },
   "file_extension": ".py",
   "mimetype": "text/x-python",
   "name": "python",
   "nbconvert_exporter": "python",
   "pygments_lexer": "ipython3",
   "version": "3.6.0"
  }
 },
 "nbformat": 4,
 "nbformat_minor": 2
}
