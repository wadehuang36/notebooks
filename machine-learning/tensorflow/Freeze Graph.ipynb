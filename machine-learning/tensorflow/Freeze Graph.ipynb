{
 "cells": [
  {
   "cell_type": "markdown",
   "metadata": {},
   "source": [
    "This scripts are combine two scripts from \n",
    "\n",
    "- https://github.com/tensorflow/models/blob/master/slim/export_inference_graph.py\n",
    "\n",
    "- https://github.com/tensorflow/tensorflow/blob/master/tensorflow/python/tools/freeze_graph.py\n",
    "\n",
    "you can use this two scripts directly with\n",
    "\n",
    "```\n",
    "python export_inference_graph.py --model_name=mobilenet_v1 \\\n",
    "    --default_image_size=224 \\\n",
    "    --output_file=mobilenet_v1.pb \\\n",
    "\n",
    "\n",
    "python freeze_graph.py --input_graph =mobilenet_v1.pb \\\n",
    "         --input_checkpoint=./checkpoints/mobilenet_v1.ckpt \\\n",
    "         --input_binary=true \\\n",
    "         --output_graph=mobilenet_v1.pb \\\n",
    "         --output_node_names=MobilenetV1/Predictions/Reshape_1\n",
    "```"
   ]
  },
  {
   "cell_type": "code",
   "execution_count": 1,
   "metadata": {
    "collapsed": true
   },
   "outputs": [],
   "source": [
    "import tensorflow as tf\n",
    "\n",
    "slim = tf.contrib.slim"
   ]
  },
  {
   "cell_type": "code",
   "execution_count": 2,
   "metadata": {
    "collapsed": false
   },
   "outputs": [],
   "source": [
    "import mobilenet_v1 as network\n",
    "\n",
    "arg_scope = network.mobilenet_v1_arg_scope()\n",
    "network_fn = network.mobilenet_v1\n",
    "\n",
    "image_size = 224\n",
    "num_classes = 1001\n",
    "checkpoints = \"./.checkpoints/mobilenet_v1/mobilenet_v1.ckpt\"\n",
    "output = \"./.mobilenet_v1/mobilenet_v1.pb\"\n",
    "output_node_names = \"MobilenetV1/Predictions/Reshape_1\""
   ]
  },
  {
   "cell_type": "code",
   "execution_count": 3,
   "metadata": {
    "collapsed": false
   },
   "outputs": [],
   "source": [
    "if not tf.train.checkpoint_exists(checkpoints):\n",
    "    print(\"Input checkpoint '\" + checkpoints + \"' doesn't exist!\")"
   ]
  },
  {
   "cell_type": "code",
   "execution_count": 4,
   "metadata": {
    "collapsed": false
   },
   "outputs": [
    {
     "name": "stdout",
     "output_type": "stream",
     "text": [
      "INFO:tensorflow:Restoring parameters from ./.checkpoints/mobilenet_v1/mobilenet_v1.ckpt\n",
      "INFO:tensorflow:Froze 137 variables.\n",
      "Converted 137 variables to const ops.\n"
     ]
    }
   ],
   "source": [
    "tf.logging.set_verbosity(tf.logging.INFO)\n",
    "with tf.Graph().as_default() as graph:\n",
    "\n",
    "    placeholder = tf.placeholder(name='input', dtype=tf.float32,\n",
    "                                 shape=[1, image_size, image_size, 3])\n",
    "\n",
    "    with slim.arg_scope(arg_scope):\n",
    "        network_fn(placeholder, num_classes, is_training=False)\n",
    "        \n",
    "    with tf.Session() as sess:\n",
    "        var_list = {}\n",
    "        reader = tf.train.NewCheckpointReader(checkpoints)\n",
    "        var_to_shape_map = reader.get_variable_to_shape_map()\n",
    "        for key in var_to_shape_map:\n",
    "            try:\n",
    "                tensor = sess.graph.get_tensor_by_name(key + \":0\")\n",
    "            except KeyError:\n",
    "                # This tensor doesn't exist in the graph (for example it's\n",
    "                # 'global_step' or a similar housekeeping element) so skip it.\n",
    "                continue\n",
    "            var_list[key] = tensor\n",
    "            \n",
    "        saver = tf.train.Saver(var_list=var_list)\n",
    "        saver.restore(sess, checkpoints)\n",
    "        \n",
    "        output_graph_def = tf.graph_util.convert_variables_to_constants(\n",
    "            sess,\n",
    "            graph.as_graph_def(),\n",
    "            output_node_names.split(\",\"),\n",
    "            variable_names_blacklist=None)\n",
    "\n",
    "        with tf.gfile.GFile(output, 'wb') as f:\n",
    "            f.write(output_graph_def.SerializeToString())"
   ]
  }
 ],
 "metadata": {
  "kernelspec": {
   "display_name": "Python 3",
   "language": "python",
   "name": "python3"
  },
  "language_info": {
   "codemirror_mode": {
    "name": "ipython",
    "version": 3
   },
   "file_extension": ".py",
   "mimetype": "text/x-python",
   "name": "python",
   "nbconvert_exporter": "python",
   "pygments_lexer": "ipython3",
   "version": "3.6.0"
  }
 },
 "nbformat": 4,
 "nbformat_minor": 2
}
