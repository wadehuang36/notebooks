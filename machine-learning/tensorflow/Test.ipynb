{
 "cells": [
  {
   "cell_type": "code",
   "execution_count": 1,
   "metadata": {
    "collapsed": false
   },
   "outputs": [],
   "source": [
    "import numpy as np\n",
    "import tensorflow as tf\n",
    "\n",
    "# c = celsius = x\n",
    "# f = fahrenheit = y\n",
    "\n",
    "c = tf.placeholder(tf.float32, name=\"celsius\")\n",
    "f = tf.placeholder(tf.float32, name=\"fahrenheit\")\n",
    "\n",
    "b = tf.Variable(0, dtype=tf.float32, name=\"b\")\n",
    "m = tf.Variable(0, dtype=tf.float32, name=\"m\")\n",
    "\n",
    "# convert celsius to fahrenheit\n",
    "linear_formula = m * c + b\n",
    "\n",
    "# Error and loss\n",
    "error = linear_formula - f\n",
    "loss = tf.reduce_sum(tf.square(error))\n",
    "\n",
    "# training optimizer\n",
    "optimizer = tf.train.AdagradOptimizer(1)\n",
    "train = optimizer.minimize(loss)\n",
    "\n",
    "# training data\n",
    "c_train = [0,5,12,20, 28]\n",
    "f_train = [32,41,53.6,68, 82.4]\n",
    "\n",
    "# training loop\n",
    "init = tf.global_variables_initializer()\n",
    "\n",
    "with tf.Session() as sess:\n",
    "    sess.run(init)\n",
    "    \n",
    "    max_loop, loop_count, loss_value, threshold = [10000, 0, 1, 1e-6] \n",
    "    \n",
    "    while loop_count < max_loop and loss_value > threshold:\n",
    "        loop_count = loop_count + 1\n",
    "        loss_value = sess.run([loss, train], {c:c_train, f:f_train})[0]\n",
    "    \n",
    "    tf.summary.FileWriter(\"/notebooks/.tensorflow-logs/\", sess.graph)"
   ]
  },
  {
   "cell_type": "code",
   "execution_count": null,
   "metadata": {
    "collapsed": true
   },
   "outputs": [],
   "source": []
  }
 ],
 "metadata": {
  "kernelspec": {
   "display_name": "Python 3",
   "language": "python",
   "name": "python3"
  },
  "language_info": {
   "codemirror_mode": {
    "name": "ipython",
    "version": 3
   },
   "file_extension": ".py",
   "mimetype": "text/x-python",
   "name": "python",
   "nbconvert_exporter": "python",
   "pygments_lexer": "ipython3",
   "version": "3.6.0"
  }
 },
 "nbformat": 4,
 "nbformat_minor": 2
}
