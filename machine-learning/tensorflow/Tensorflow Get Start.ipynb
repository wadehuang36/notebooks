{
 "cells": [
  {
   "cell_type": "code",
   "execution_count": 1,
   "metadata": {
    "collapsed": true
   },
   "outputs": [],
   "source": [
    "import numpy as np\n",
    "import tensorflow as tf"
   ]
  },
  {
   "cell_type": "markdown",
   "metadata": {},
   "source": [
    "# Constant\n",
    "\n",
    "## string"
   ]
  },
  {
   "cell_type": "code",
   "execution_count": 2,
   "metadata": {
    "collapsed": false
   },
   "outputs": [
    {
     "name": "stdout",
     "output_type": "stream",
     "text": [
      "b'Hello, TensorFlow!'\n",
      "text is Tensor(\"Const:0\", shape=(), dtype=string)\n"
     ]
    }
   ],
   "source": [
    "with tf.Session() as sess:\n",
    "    text = tf.constant('Hello, TensorFlow!')\n",
    "\n",
    "    print(sess.run(text))\n",
    "    print(\"text is\", text)"
   ]
  },
  {
   "cell_type": "markdown",
   "metadata": {},
   "source": [
    "text isn't native string, it is Tensor object"
   ]
  },
  {
   "cell_type": "markdown",
   "metadata": {},
   "source": [
    "# formula"
   ]
  },
  {
   "cell_type": "code",
   "execution_count": 3,
   "metadata": {
    "collapsed": false
   },
   "outputs": [
    {
     "name": "stdout",
     "output_type": "stream",
     "text": [
      "c1 + c2 is 3\n"
     ]
    }
   ],
   "source": [
    "with tf.Session() as sess:\n",
    "    c1 = tf.constant(1)\n",
    "    c2 = tf.constant(2)\n",
    "    formula = c1 + c2\n",
    "    print(\"c1 + c2 is\", sess.run(formula))"
   ]
  },
  {
   "cell_type": "markdown",
   "metadata": {},
   "source": [
    "## placeholder"
   ]
  },
  {
   "cell_type": "code",
   "execution_count": 4,
   "metadata": {
    "collapsed": false
   },
   "outputs": [
    {
     "name": "stdout",
     "output_type": "stream",
     "text": [
      "c1 + c2 is [5 7 9]\n"
     ]
    }
   ],
   "source": [
    "with tf.Session() as sess:\n",
    "    x = tf.placeholder(tf.int32)\n",
    "    y = tf.placeholder(tf.int32)\n",
    "    formula = x + y\n",
    "    print(\"c1 + c2 is\", sess.run(formula, { x: [1,2,3], y: [4,5,6] }))"
   ]
  },
  {
   "cell_type": "markdown",
   "metadata": {},
   "source": [
    "# Train Linear Model"
   ]
  },
  {
   "cell_type": "code",
   "execution_count": 5,
   "metadata": {
    "collapsed": false
   },
   "outputs": [
    {
     "name": "stdout",
     "output_type": "stream",
     "text": [
      "W: [-0.9999969] b: [ 0.99999082] loss: 5.69997e-11\n"
     ]
    }
   ],
   "source": [
    "# Model parameters\n",
    "W = tf.Variable([.3], dtype=tf.float32)\n",
    "b = tf.Variable([-.3], dtype=tf.float32)\n",
    "# Model input and output\n",
    "x = tf.placeholder(tf.float32)\n",
    "linear_model = W * x + b\n",
    "y = tf.placeholder(tf.float32)\n",
    "# loss\n",
    "loss = tf.reduce_sum(tf.square(linear_model - y)) # sum of the squares\n",
    "# optimizer\n",
    "optimizer = tf.train.GradientDescentOptimizer(0.01)\n",
    "train = optimizer.minimize(loss)\n",
    "# training data\n",
    "x_train = [1,2,3,4]\n",
    "y_train = [0,-1,-2,-3]\n",
    "# training loop\n",
    "init = tf.global_variables_initializer()\n",
    "\n",
    "with tf.Session() as sess:\n",
    "    sess.run(init) # reset values to wrong\n",
    "    for i in range(1000):\n",
    "      sess.run(train, {x:x_train, y:y_train})\n",
    "\n",
    "    # evaluate training accuracy\n",
    "    curr_W, curr_b, curr_loss = sess.run([W, b, loss], {x:x_train, y:y_train})\n",
    "    print(\"W: %s b: %s loss: %s\"%(curr_W, curr_b, curr_loss))"
   ]
  },
  {
   "cell_type": "markdown",
   "metadata": {},
   "source": [
    "# Find the paramater of Celsius to fahrenheit"
   ]
  },
  {
   "cell_type": "code",
   "execution_count": 6,
   "metadata": {
    "collapsed": false
   },
   "outputs": [
    {
     "name": "stdout",
     "output_type": "stream",
     "text": [
      "Loop count: 4771, loss: 9.94973e-07\n",
      "F = C * 1.8 + 32\n"
     ]
    }
   ],
   "source": [
    "# c = celsius = x\n",
    "# f = fahrenheit = y\n",
    "\n",
    "c = tf.placeholder(tf.float32, name=\"celsius\")\n",
    "f = tf.placeholder(tf.float32, name=\"fahrenheit\")\n",
    "\n",
    "b = tf.Variable(0, dtype=tf.float32, name=\"b\")\n",
    "m = tf.Variable(0, dtype=tf.float32, name=\"m\")\n",
    "\n",
    "# convert celsius to fahrenheit\n",
    "linear_formula = m * c + b\n",
    "\n",
    "# Error and loss\n",
    "error = linear_formula - f\n",
    "loss = tf.reduce_sum(tf.square(error))\n",
    "\n",
    "# training optimizer\n",
    "optimizer = tf.train.AdagradOptimizer(1)\n",
    "train = optimizer.minimize(loss)\n",
    "\n",
    "# training data\n",
    "c_train = [0,5,12,20, 28]\n",
    "f_train = [32,41,53.6,68, 82.4]\n",
    "\n",
    "# training loop\n",
    "init = tf.global_variables_initializer()\n",
    "\n",
    "with tf.Session() as sess:\n",
    "    sess.run(init)\n",
    "    \n",
    "    max_loop, loop_count, loss_value, threshold = [10000, 0, 1, 1e-6] \n",
    "    \n",
    "    while loop_count < max_loop and loss_value > threshold:\n",
    "        loop_count = loop_count + 1\n",
    "        loss_value = sess.run([loss, train], {c:c_train, f:f_train})[0]\n",
    "\n",
    "    # print training result\n",
    "    print(\"Loop count: %s, loss: %s\"%(loop_count, loss_value))\n",
    "    \n",
    "    # use session.run to get the last values\n",
    "    print(\"F = C * {0:.2n} + {1:.2n}\".format(*sess.run([m, b])))\n",
    "    \n",
    "    tf.train.Saver().save(sess, \"/tmp/model.ckpt\")"
   ]
  },
  {
   "cell_type": "code",
   "execution_count": 7,
   "metadata": {
    "collapsed": false
   },
   "outputs": [
    {
     "name": "stdout",
     "output_type": "stream",
     "text": [
      "INFO:tensorflow:Restoring parameters from /tmp/model.ckpt\n",
      "[ 100.40061951]\n"
     ]
    }
   ],
   "source": [
    "with tf.Session() as sess:\n",
    "    tf.train.Saver().restore(sess, \"/tmp/model.ckpt\")\n",
    "    print(sess.run(linear_formula, {c:[38]}))"
   ]
  }
 ],
 "metadata": {
  "kernelspec": {
   "display_name": "Python 3",
   "language": "python",
   "name": "python3"
  },
  "language_info": {
   "codemirror_mode": {
    "name": "ipython",
    "version": 3
   },
   "file_extension": ".py",
   "mimetype": "text/x-python",
   "name": "python",
   "nbconvert_exporter": "python",
   "pygments_lexer": "ipython3",
   "version": "3.6.0"
  }
 },
 "nbformat": 4,
 "nbformat_minor": 2
}
