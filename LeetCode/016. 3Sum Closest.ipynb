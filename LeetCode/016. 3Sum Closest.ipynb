{
 "cells": [
  {
   "cell_type": "markdown",
   "metadata": {},
   "source": [
    "from https://leetcode.com/problems/3sum-closest/description/\n",
    "\n",
    "Given an array S of n integers, find three integers in S such that the sum is closest to a given number, target. Return the sum of the three integers. You may assume that each input would have exactly one solution."
   ]
  },
  {
   "cell_type": "code",
   "execution_count": null,
   "metadata": {
    "scrolled": true
   },
   "outputs": [],
   "source": [
    "%autosave 0\n",
    "%run helpers.py"
   ]
  },
  {
   "cell_type": "code",
   "execution_count": null,
   "metadata": {},
   "outputs": [],
   "source": [
    "import sys\n",
    "\n",
    "class Solution(object):\n",
    "    def threeSumClosest(self, nums, target):\n",
    "        result = 0\n",
    "        length = len(nums)\n",
    "\n",
    "        if length == 0:\n",
    "            return result\n",
    "\n",
    "        nums = sorted(nums)\n",
    "        best_d = sys.maxsize\n",
    "\n",
    "        i = 0\n",
    "        length1 = length - 1\n",
    "        length2 = length - 2\n",
    "\n",
    "        while i < length2:\n",
    "            n1 = nums[i]\n",
    "\n",
    "            k = i + 1\n",
    "            j = length1\n",
    "\n",
    "            while k < j:\n",
    "                n2 = nums[k]\n",
    "                n3 = nums[j]\n",
    "\n",
    "                s = n1 + n2 + n3\n",
    "                d = abs(s - target)\n",
    "\n",
    "                log(\"[{0}]={1}, [{2}]={3}, [{4}]={5}, s={6}\",\n",
    "                    i, n1, k, n2, j, n3, s)\n",
    "\n",
    "                if d < best_d:\n",
    "                    best_d = d\n",
    "                    result = s\n",
    "\n",
    "                if s > target:\n",
    "                    j -= 1\n",
    "                else:\n",
    "                    k += 1\n",
    "            i += 1\n",
    "\n",
    "        return result"
   ]
  },
  {
   "cell_type": "code",
   "execution_count": null,
   "metadata": {},
   "outputs": [],
   "source": [
    "func = Solution().threeSumClosest\n",
    "eq(2, func([-1, 2, 1, -4], 1))\n",
    "eq(3, func([0, 1, 2, 5, 6, 7, 8, 9], 3))\n",
    "eq(82, func([1,2,4,8,16,32,64,128], 82))\n",
    "eq(0, func([-55,-24,-18,-11,-7,-3,4,5,6,9,11,23,33], 0))"
   ]
  }
 ],
 "metadata": {
  "kernelspec": {
   "display_name": "Python 3",
   "language": "python",
   "name": "python3"
  },
  "language_info": {
   "codemirror_mode": {
    "name": "ipython",
    "version": 3
   },
   "file_extension": ".py",
   "mimetype": "text/x-python",
   "name": "python",
   "nbconvert_exporter": "python",
   "pygments_lexer": "ipython3",
   "version": "3.6.1"
  }
 },
 "nbformat": 4,
 "nbformat_minor": 2
}
