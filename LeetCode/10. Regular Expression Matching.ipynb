{
 "cells": [
  {
   "cell_type": "markdown",
   "metadata": {},
   "source": [
    "# from https://leetcode.com/problems/regular-expression-matching/description/"
   ]
  },
  {
   "cell_type": "code",
   "execution_count": null,
   "metadata": {
    "scrolled": true
   },
   "outputs": [],
   "source": [
    "%autosave 0\n",
    "%run helpers.py"
   ]
  },
  {
   "cell_type": "code",
   "execution_count": null,
   "metadata": {
    "collapsed": true
   },
   "outputs": [],
   "source": [
    "class Solution(object):\n",
    "    def isMatch(self, string, pattern):\n",
    "        \"\"\"\n",
    "        :type s: str\n",
    "        :type p: str\n",
    "        :rtype: bool\n",
    "        \"\"\"\n",
    "\n",
    "        if string == pattern:\n",
    "            return True\n",
    "\n",
    "        if pattern is None or pattern == \"\":\n",
    "            return False\n",
    "\n",
    "        p_index = 0\n",
    "        s_index = 0\n",
    "\n",
    "        self.p_length = len(pattern)\n",
    "        self.s_length = len(string)\n",
    "\n",
    "        self.string = string\n",
    "        self.pattern = pattern\n",
    "        self.checkList = {}\n",
    "\n",
    "        return self._isMatch_normal(p_index, s_index)\n",
    "\n",
    "    def _isMatch_normal(self, p_index, s_index):\n",
    "        self.checkList[\"{0}:{1}\".format(p_index, s_index)] = True\n",
    "        \n",
    "        print(\"normal: {0}_{1}, {2}_{3}\".format(self.pattern[0:p_index], self.pattern[p_index:], self.string[0:s_index], self.string[s_index:]))\n",
    "        while p_index < self.p_length:\n",
    "            p = self.pattern[p_index]\n",
    "            p_index = p_index + 1\n",
    "            if p_index < self.p_length and self.pattern[p_index] == \"*\":\n",
    "                is_star = True\n",
    "                p_index = p_index + 1\n",
    "            else:\n",
    "                is_star = False\n",
    "\n",
    "            if is_star:\n",
    "                if \"{0}:{1}\".format(p_index, s_index) in self.checkList:\n",
    "                    print(\"skip in checkList\")\n",
    "                    return False\n",
    "                \n",
    "                return self._isMatch_star(p, p_index, s_index)\n",
    "            else:\n",
    "                if s_index == self.s_length:\n",
    "                    return False\n",
    "                    \n",
    "                if p != \".\" and p != self.string[s_index]:\n",
    "                    return False\n",
    "\n",
    "                s_index = s_index + 1\n",
    "\n",
    "        return s_index == self.s_length\n",
    "\n",
    "    def _isMatch_star(self, p, p_index, s_index):   \n",
    "        while s_index < self.s_length:\n",
    "            if \"{0}:{1}\".format(p_index, s_index) in self.checkList:\n",
    "                print(\"skip in checkList\")\n",
    "            else:\n",
    "                # check fork for another possibility\n",
    "                if self._isMatch_normal(p_index, s_index):\n",
    "                    return True\n",
    "            \n",
    "            print(\"star: {0}_{1}, {2}_{3}\".format(self.pattern[0:p_index], self.pattern[p_index:], self.string[0:s_index], self.string[s_index:]))\n",
    "            \n",
    "            if not (p == \".\" or p == self.string[s_index]):\n",
    "                break;\n",
    "\n",
    "            s_index += 1\n",
    "\n",
    "        # check after   \n",
    "        if \"{0}:{1}\".format(p_index, s_index) in self.checkList:\n",
    "            print(\"skip in checkList\")\n",
    "            return False\n",
    "        \n",
    "        return self._isMatch_normal(p_index, s_index)"
   ]
  },
  {
   "cell_type": "code",
   "execution_count": null,
   "metadata": {},
   "outputs": [],
   "source": [
    "func = Solution().isMatch\n",
    "eq(False, func(\"aa\",\"a\"))\n",
    "eq(True, func(\"aa\",\"aa\"))\n",
    "eq(False, func(\"aaa\",\"aa\"))\n",
    "eq(True, func(\"aa\", \"a*\"))\n",
    "eq(True, func(\"aaa\", \"a*aa\"))\n",
    "eq(True, func(\"aa\", \".*\"))\n",
    "eq(True, func(\"ab\", \".*\"))\n",
    "eq(True, func(\"aab\", \"c*a*b\"))\n",
    "eq(False, func(\"ab\", \".*c\"))\n",
    "eq(True, func(\"a\", \"ab*\"))\n",
    "eq(True, func(\"aaaaaaaaaaaaab\", \"a*a*a*a*a*a*a*a*a*a*b\"))\n",
    "eq(False, func(\"aaaaaaaaaaaaab\", \"a*a*a*a*a*a*a*a*a*a*c\"))\n",
    "eq(True, func(\"aasdfasdfasdfasdfas\", \"aasdf.*asdf.*asdf.*asdf.*s\"))\n",
    "eq(False, func(\"abacacccbbbcbcbb\", \".*.*.*ab*.*ab.*c*\"))"
   ]
  }
 ],
 "metadata": {
  "kernelspec": {
   "display_name": "Python 3",
   "language": "python",
   "name": "python3"
  },
  "language_info": {
   "codemirror_mode": {
    "name": "ipython",
    "version": 3
   },
   "file_extension": ".py",
   "mimetype": "text/x-python",
   "name": "python",
   "nbconvert_exporter": "python",
   "pygments_lexer": "ipython3",
   "version": "3.6.1"
  }
 },
 "nbformat": 4,
 "nbformat_minor": 2
}
