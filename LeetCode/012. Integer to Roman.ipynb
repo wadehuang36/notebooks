{
 "cells": [
  {
   "cell_type": "markdown",
   "metadata": {},
   "source": [
    "# from https://leetcode.com/problems/integer-to-roman/description/"
   ]
  },
  {
   "cell_type": "code",
   "execution_count": null,
   "metadata": {
    "scrolled": true
   },
   "outputs": [],
   "source": [
    "%autosave 0\n",
    "%run helpers.py"
   ]
  },
  {
   "cell_type": "code",
   "execution_count": null,
   "metadata": {},
   "outputs": [],
   "source": [
    "class Solution(object):\n",
    "    def __init__(self):\n",
    "        self.chars = {\n",
    "            1: \"I\",\n",
    "            5: \"V\",\n",
    "            10: \"X\",\n",
    "            50: \"L\",\n",
    "            100: \"C\",\n",
    "            500: \"D\",\n",
    "            1000: \"M\"\n",
    "        }\n",
    "\n",
    "    def intToRoman(self, num):\n",
    "        \"\"\"\n",
    "        :type num: int\n",
    "        :rtype: str\n",
    "        \"\"\"\n",
    "\n",
    "        numbers = []\n",
    "\n",
    "        level = int(math.log(num, 10) + 0.01)\n",
    "        for i in range(level, -1, -1):\n",
    "            unit = 10 ** i\n",
    "            if i == 0:\n",
    "                n = num\n",
    "            else:\n",
    "                n = int(num / unit)\n",
    "                num = num % unit\n",
    "\n",
    "            if n == 0:\n",
    "                continue\n",
    "            elif n < 4:\n",
    "                numbers.extend([self.chars[unit] for i in range(n)])\n",
    "            elif n == 4:\n",
    "                numbers.extend([self.chars[unit], self.chars[unit * 5]])\n",
    "            elif n == 5:\n",
    "                numbers.extend([self.chars[unit * 5]])\n",
    "            elif n == 6:\n",
    "                numbers.extend([self.chars[unit * 5], self.chars[unit]])\n",
    "            elif n < 9:\n",
    "                numbers.append(self.chars[unit * 5])\n",
    "                numbers.extend([self.chars[unit] for i in range(n - 5)])\n",
    "            elif n == 9:\n",
    "                numbers.extend([self.chars[unit], self.chars[unit * 10]])\n",
    "\n",
    "        return \"\".join(numbers)"
   ]
  },
  {
   "cell_type": "code",
   "execution_count": null,
   "metadata": {},
   "outputs": [],
   "source": [
    "func = Solution().intToRoman\n",
    "eq(\"I\", func(1))\n",
    "eq(\"III\", func(3))\n",
    "eq(\"IV\", func(4))\n",
    "eq(\"VIII\", func(8))\n",
    "eq(\"LV\", func(55))\n",
    "eq(\"XCIX\", func(99))\n",
    "eq(\"M\", func(1000))\n",
    "eq(\"MI\", func(1001))"
   ]
  }
 ],
 "metadata": {
  "kernelspec": {
   "display_name": "Python 3",
   "language": "python",
   "name": "python3"
  },
  "language_info": {
   "codemirror_mode": {
    "name": "ipython",
    "version": 3
   },
   "file_extension": ".py",
   "mimetype": "text/x-python",
   "name": "python",
   "nbconvert_exporter": "python",
   "pygments_lexer": "ipython3",
   "version": "3.6.1"
  }
 },
 "nbformat": 4,
 "nbformat_minor": 2
}
