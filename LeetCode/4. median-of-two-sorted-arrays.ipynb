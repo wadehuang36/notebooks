{
 "cells": [
  {
   "cell_type": "markdown",
   "metadata": {},
   "source": [
    "https://leetcode.com/problems/median-of-two-sorted-arrays/\n",
    "\n",
    "There are two sorted arrays nums1 and nums2 of size m and n respectively.\n",
    "\n",
    "Find the median of the two sorted arrays. The overall run time complexity should be O(log (m+n)).\n",
    "\n",
    "Example 1:\n",
    "nums1 = [1, 3]\n",
    "nums2 = [2]\n",
    "\n",
    "The median is 2.0\n",
    "Example 2:\n",
    "nums1 = [1, 2]\n",
    "nums2 = [3, 4]\n",
    "\n",
    "The median is (2 + 3)/2 = 2.5"
   ]
  },
  {
   "cell_type": "code",
   "execution_count": 1,
   "metadata": {
    "collapsed": true
   },
   "outputs": [],
   "source": [
    "def median(nums, l):\n",
    "    if l % 2 == 0:\n",
    "        m = int(l / 2)\n",
    "        return (nums[m] + nums[m - 1]) / 2.0\n",
    "    else:\n",
    "        return nums[int(l / 2)]\n",
    "\n",
    "def findMedianSortedArrays(nums1, nums2):\n",
    "    \"\"\"\n",
    "    :type nums1: List[int]\n",
    "    :type nums2: List[int]\n",
    "    :rtype: float\n",
    "    \"\"\"\n",
    "    n1L = len(nums1)\n",
    "    n2L = len(nums2)\n",
    "\n",
    "    if n1L == 0:\n",
    "        return median(nums2, n2L)\n",
    "\n",
    "    if n2L == 0:\n",
    "        return median(nums1, n1L)\n",
    "\n",
    "    nums = []\n",
    "    i = j = 0\n",
    "\n",
    "    while not (i == n1L and j == n2L):\n",
    "        if i == n1L and j != n2L:\n",
    "            nums.append(nums2[j])\n",
    "            j += 1\n",
    "        elif i != n1L and j == n2L:\n",
    "            nums.append(nums1[i])\n",
    "            i += 1\n",
    "        elif nums1[i] <= nums2[j]:\n",
    "            nums.append(nums1[i])\n",
    "            i += 1\n",
    "        else:\n",
    "            nums.append(nums2[j])\n",
    "            j += 1\n",
    "\n",
    "    return median(nums, len(nums))"
   ]
  },
  {
   "cell_type": "code",
   "execution_count": 2,
   "metadata": {
    "collapsed": true
   },
   "outputs": [],
   "source": [
    "from unittest import TestCase\n",
    "\n",
    "tc = TestCase()\n",
    "\n",
    "tc.assertEqual(findMedianSortedArrays([1, 2, 3], [1, 2]), 2)\n",
    "tc.assertEqual(findMedianSortedArrays([1, 3], [2]), 2.0)\n",
    "tc.assertEqual(findMedianSortedArrays([1, 2], [3, 4]), 2.5)\n",
    "tc.assertEqual(findMedianSortedArrays([], [1, 2]), 1.5)\n",
    "tc.assertEqual(findMedianSortedArrays([], [1]), 1)\n",
    "tc.assertEqual(findMedianSortedArrays([], [4, 5, 6, 8, 9]), 6)\n",
    "tc.assertEqual(findMedianSortedArrays([1, 2, 3, 5], [4]), 3)"
   ]
  }
 ],
 "metadata": {
  "kernelspec": {
   "display_name": "Python 3",
   "language": "python",
   "name": "python3"
  },
  "language_info": {
   "codemirror_mode": {
    "name": "ipython",
    "version": 3
   },
   "file_extension": ".py",
   "mimetype": "text/x-python",
   "name": "python",
   "nbconvert_exporter": "python",
   "pygments_lexer": "ipython3",
   "version": "3.6.0"
  }
 },
 "nbformat": 4,
 "nbformat_minor": 2
}
