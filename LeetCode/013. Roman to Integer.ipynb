{
 "cells": [
  {
   "cell_type": "markdown",
   "metadata": {},
   "source": [
    "# from https://leetcode.com/problems/roman-to-integer/description/"
   ]
  },
  {
   "cell_type": "code",
   "execution_count": null,
   "metadata": {
    "scrolled": true
   },
   "outputs": [],
   "source": [
    "%autosave 0\n",
    "%run helpers.py"
   ]
  },
  {
   "cell_type": "code",
   "execution_count": null,
   "metadata": {
    "collapsed": true
   },
   "outputs": [],
   "source": [
    "class Solution(object):\n",
    "    def __init__(self):\n",
    "        self.maps = {\n",
    "            \"_\": 0,\n",
    "            \"I\": 1,\n",
    "            \"V\": 5,\n",
    "            \"X\": 10,\n",
    "            \"L\": 50,\n",
    "            \"C\": 100,\n",
    "            \"D\": 500,\n",
    "            \"M\": 1000\n",
    "        }\n",
    "    \n",
    "    def romanToInt(self, string):\n",
    "        \"\"\"\n",
    "        :type num: int\n",
    "        :rtype: str\n",
    "        \"\"\"\n",
    "        \n",
    "        string += \"_\"\n",
    "        \n",
    "        num = 0\n",
    "        last_m = 0\n",
    "        for i, s in enumerate(string):\n",
    "            m = self.maps[s]\n",
    "            \n",
    "            log(\"num:{0}, last_m:{1}, m:{2}\", num, last_m, m)\n",
    "            \n",
    "            if last_m == m or last_m == m * 5:\n",
    "                # 2x, 3x or 6x,7x,8x\n",
    "                num += m\n",
    "            elif last_m * 5 == m:\n",
    "                # 4x\n",
    "                num += last_m * 3\n",
    "            elif last_m * 10 == m:\n",
    "                # 9x\n",
    "                num += last_m * 8\n",
    "            else:\n",
    "                # 1x, 5x\n",
    "                num += m\n",
    "            \n",
    "            last_m = m\n",
    "                \n",
    "        return num"
   ]
  },
  {
   "cell_type": "code",
   "execution_count": null,
   "metadata": {},
   "outputs": [],
   "source": [
    "func = Solution().romanToInt\n",
    "eq(1, func(\"I\"))\n",
    "eq(3, func(\"III\"))\n",
    "eq(4, func(\"IV\"))\n",
    "eq(8, func(\"VIII\"))\n",
    "eq(55, func(\"LV\"))\n",
    "eq(99, func(\"XCIX\"))\n",
    "eq(1000, func(\"M\"))\n",
    "eq(1001, func(\"MI\"))\n",
    "eq(1996, func(\"MCMXCVI\"))"
   ]
  }
 ],
 "metadata": {
  "kernelspec": {
   "display_name": "Python 3",
   "language": "python",
   "name": "python3"
  },
  "language_info": {
   "codemirror_mode": {
    "name": "ipython",
    "version": 3
   },
   "file_extension": ".py",
   "mimetype": "text/x-python",
   "name": "python",
   "nbconvert_exporter": "python",
   "pygments_lexer": "ipython3",
   "version": "3.6.1"
  }
 },
 "nbformat": 4,
 "nbformat_minor": 2
}
