{
 "cells": [
  {
   "cell_type": "markdown",
   "metadata": {},
   "source": [
    "https://leetcode.com/problems/longest-substring-without-repeating-characters/\n",
    "Given a string, find the length of the longest substring without repeating characters.\n",
    "\n",
    "Examples:\n",
    "\n",
    "Given \"abcabcbb\", the answer is \"abc\", which the length is 3.\n",
    "\n",
    "Given \"bbbbb\", the answer is \"b\", with the length of 1.\n",
    "\n",
    "Given \"pwwkew\", the answer is \"wke\", with the length of 3. Note that the answer must be a substring, \"pwke\" is a subsequence and not a substring."
   ]
  },
  {
   "cell_type": "code",
   "execution_count": 1,
   "metadata": {
    "collapsed": true
   },
   "outputs": [],
   "source": [
    "def lengthOfLongestSubstring(s):\n",
    "    best = 0\n",
    "    index = 0\n",
    "    last = 0\n",
    "    d = {}\n",
    "    for c in s:\n",
    "        if c in d and d[c] >= last:\n",
    "            t = index - last\n",
    "            if t > best:\n",
    "                best = t\n",
    "\n",
    "            last = d[c] + 1\n",
    "\n",
    "        d[c] = index\n",
    "\n",
    "        index += 1\n",
    "\n",
    "    t = index - last\n",
    "    if t > best:\n",
    "        best = t\n",
    "\n",
    "    return best"
   ]
  },
  {
   "cell_type": "code",
   "execution_count": 2,
   "metadata": {
    "collapsed": false
   },
   "outputs": [],
   "source": [
    "from unittest import TestCase\n",
    "\n",
    "tc = TestCase()\n",
    "\n",
    "tc.assertEqual(lengthOfLongestSubstring(\"abcabcbb\"), 3)\n",
    "tc.assertEqual(lengthOfLongestSubstring(\"bbbbb\"), 1)\n",
    "tc.assertEqual(lengthOfLongestSubstring(\"pwwkew\"), 3)\n",
    "tc.assertEqual(lengthOfLongestSubstring(\"dvdf\"), 3)\n",
    "tc.assertEqual(lengthOfLongestSubstring(\"ohvhjdml\"), 6)\n",
    "tc.assertEqual(lengthOfLongestSubstring(\"b\"), 1)\n",
    "tc.assertEqual(lengthOfLongestSubstring(\"cdd\"), 2)"
   ]
  }
 ],
 "metadata": {
  "kernelspec": {
   "display_name": "Python 3",
   "language": "python",
   "name": "python3"
  },
  "language_info": {
   "codemirror_mode": {
    "name": "ipython",
    "version": 3
   },
   "file_extension": ".py",
   "mimetype": "text/x-python",
   "name": "python",
   "nbconvert_exporter": "python",
   "pygments_lexer": "ipython3",
   "version": "3.6.0"
  }
 },
 "nbformat": 4,
 "nbformat_minor": 2
}
