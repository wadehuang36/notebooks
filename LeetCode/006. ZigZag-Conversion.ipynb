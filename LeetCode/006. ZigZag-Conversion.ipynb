{
 "cells": [
  {
   "cell_type": "markdown",
   "metadata": {},
   "source": [
    "https://leetcode.com/problems/zigzag-conversion/\n",
    "    \n",
    "The string \"PAYPALISHIRING\" is written in a zigzag pattern on a given number of rows like this: (you may want to display this pattern in a fixed font for better legibility)\n",
    "\n",
    "```\n",
    "P   A   H   N\n",
    "A P L S I I G\n",
    "Y   I   R\n",
    "```\n",
    "\n",
    "And then read line by line: \"PAHNAPLSIIGYIR\"\n",
    "Write the code that will take a string and make this conversion given a number of rows:\n",
    "\n",
    "string convert(string text, int nRows);\n",
    "convert(\"PAYPALISHIRING\", 3) should return \"PAHNAPLSIIGYIR\"."
   ]
  },
  {
   "cell_type": "code",
   "execution_count": 1,
   "metadata": {
    "collapsed": true
   },
   "outputs": [],
   "source": [
    "def convert(s, numRows):\n",
    "    \"\"\"\n",
    "    :type s: str\n",
    "    :type numRows: int\n",
    "    :rtype: str\n",
    "    \"\"\"\n",
    "    twoDList = []\n",
    "    for i in range(numRows):\n",
    "        twoDList.append([])\n",
    "\n",
    "    p = 0\n",
    "    isTopDown = True\n",
    "    for i in range(len(s)):\n",
    "        twoDList[p].append(s[i])\n",
    "        if numRows == 2:\n",
    "            if isTopDown:\n",
    "                p = 1\n",
    "                isTopDown = False\n",
    "            else:\n",
    "                p = 0\n",
    "                isTopDown = True\n",
    "        elif numRows > 2:\n",
    "            if isTopDown:\n",
    "                p += 1\n",
    "                if p == numRows:\n",
    "                    p -= 2\n",
    "                    isTopDown = False\n",
    "            else:\n",
    "                p -= 1\n",
    "                if p == 0:\n",
    "                    isTopDown = True\n",
    "\n",
    "    oneDList = twoDList[0]\n",
    "    for i in range(1, numRows):\n",
    "        oneDList.extend(twoDList[i])\n",
    "\n",
    "    return \"\".join(oneDList)"
   ]
  },
  {
   "cell_type": "code",
   "execution_count": 2,
   "metadata": {
    "collapsed": false
   },
   "outputs": [],
   "source": [
    "from unittest import TestCase\n",
    "\n",
    "tc = TestCase()\n",
    "\n",
    "tc.assertEqual(convert(\"\", 1), \"\")\n",
    "tc.assertEqual(convert(\"AB\", 1), \"AB\")\n",
    "tc.assertEqual(convert(\"ABC\", 1), \"ABC\")\n",
    "tc.assertEqual(convert(\"ABCD\", 1), \"ABCD\")\n",
    "tc.assertEqual(convert(\"ABCDEF\", 2), \"ACEBDF\")\n",
    "tc.assertEqual(convert(\"ABCD\", 2), \"ACBD\")\n",
    "tc.assertEqual(convert(\"ABC\", 2), \"ACB\")\n",
    "tc.assertEqual(convert(\"PAYPALISHIRING\", 3), \"PAHNAPLSIIGYIR\")"
   ]
  }
 ],
 "metadata": {
  "kernelspec": {
   "display_name": "Python 3",
   "language": "python",
   "name": "python3"
  },
  "language_info": {
   "codemirror_mode": {
    "name": "ipython",
    "version": 3
   },
   "file_extension": ".py",
   "mimetype": "text/x-python",
   "name": "python",
   "nbconvert_exporter": "python",
   "pygments_lexer": "ipython3",
   "version": "3.6.0"
  }
 },
 "nbformat": 4,
 "nbformat_minor": 2
}
