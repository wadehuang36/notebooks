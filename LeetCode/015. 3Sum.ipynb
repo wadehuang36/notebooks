{
 "cells": [
  {
   "cell_type": "markdown",
   "metadata": {},
   "source": [
    "from https://leetcode.com/problems/3sum/description/\n",
    "\n",
    "Given an array S of n integers, are there elements a, b, c in S such that a + b + c = 0? Find all unique triplets in the array which gives the sum of zero."
   ]
  },
  {
   "cell_type": "code",
   "execution_count": null,
   "metadata": {
    "scrolled": true
   },
   "outputs": [],
   "source": [
    "%autosave 0\n",
    "%run helpers.py"
   ]
  },
  {
   "cell_type": "code",
   "execution_count": null,
   "metadata": {
    "collapsed": true
   },
   "outputs": [],
   "source": [
    "import sys\n",
    "\n",
    "max_n = sys.maxsize\n",
    "min_n = -max_n - 1\n",
    "\n",
    "class Solution(object):\n",
    "    def threeSum(self, nums):\n",
    "        results = []\n",
    "        length = len(nums)\n",
    "\n",
    "        if length == 0:\n",
    "            return results\n",
    "\n",
    "        nums = sorted(nums)\n",
    "        # print(nums)\n",
    "\n",
    "        last_n1 = nums[0] - 1\n",
    "\n",
    "        i = 0\n",
    "        length1 = length - 1\n",
    "        length2 = length - 2\n",
    "\n",
    "        while i < length2:\n",
    "            n1 = nums[i]\n",
    "\n",
    "            if n1 > 0:\n",
    "                break\n",
    "\n",
    "            if last_n1 == n1:\n",
    "                i += 1\n",
    "                continue\n",
    "\n",
    "            last_n1 = n1\n",
    "            k = i + 1\n",
    "            j = length1\n",
    "\n",
    "            last_n2 = min_n\n",
    "            last_n3 = max_n\n",
    "            last_s = 0\n",
    "\n",
    "            while k < j:\n",
    "                n2 = nums[k]\n",
    "                n3 = nums[j]\n",
    "\n",
    "                if n3 < 0:\n",
    "                    break\n",
    "\n",
    "#                 log(\"{0}:{1},{2}:{3},{4}:{5}\", i, n1, k, n2, j, n3)\n",
    "                if last_n2 != n2 and last_n3 != n3:\n",
    "                    s = n1 + n2 + n3;\n",
    "                    last_s = s\n",
    "                    if s == 0:\n",
    "                        results.append([n1, n2, n3])\n",
    "\n",
    "                # print(n1 > n2 + n3)\n",
    "                if last_s > 0:\n",
    "                    j -= 1\n",
    "                    last_n3 = n3\n",
    "                else:\n",
    "                    k += 1\n",
    "                    last_n2 = n2\n",
    "            i += 1\n",
    "\n",
    "        return results"
   ]
  },
  {
   "cell_type": "code",
   "execution_count": null,
   "metadata": {},
   "outputs": [],
   "source": [
    "func = Solution().threeSum\n",
    "two_d_eq([[-1, 0, 1]], func([0,-1,1]))\n",
    "two_d_eq([[-1, 0, 1]], func([1,-1,-1,0]))\n",
    "two_d_eq([[-1, -1, 2], [-1, 0, 1]], func([-1, 0, 1, 2, -1, -4]))\n",
    "two_d_eq([[-2, 0, 2], [-2, 1, 1]], func([-2,0,1,1,2]))\n",
    "two_d_eq([[-4,-2,6],[-4,0,4],[-4,1,3],[-4,2,2],[-2,-2,4],[-2,0,2]], func([-4,-2,-2,-2,0,1,2,2,2,3,3,4,4,6,6]))"
   ]
  }
 ],
 "metadata": {
  "kernelspec": {
   "display_name": "Python 3",
   "language": "python",
   "name": "python3"
  },
  "language_info": {
   "codemirror_mode": {
    "name": "ipython",
    "version": 3
   },
   "file_extension": ".py",
   "mimetype": "text/x-python",
   "name": "python",
   "nbconvert_exporter": "python",
   "pygments_lexer": "ipython3",
   "version": "3.6.1"
  }
 },
 "nbformat": 4,
 "nbformat_minor": 2
}
