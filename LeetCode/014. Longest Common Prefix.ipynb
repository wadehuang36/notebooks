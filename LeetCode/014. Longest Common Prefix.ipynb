{
 "cells": [
  {
   "cell_type": "markdown",
   "metadata": {},
   "source": [
    "# from https://leetcode.com/problems/longest-common-prefix/description/"
   ]
  },
  {
   "cell_type": "code",
   "execution_count": null,
   "metadata": {
    "scrolled": true
   },
   "outputs": [],
   "source": [
    "%autosave 0\n",
    "%run helpers.py"
   ]
  },
  {
   "cell_type": "code",
   "execution_count": null,
   "metadata": {},
   "outputs": [],
   "source": [
    "class Solution(object):\n",
    "    \n",
    "    @staticmethod\n",
    "    def findIndex(strs):\n",
    "        \"\"\"\n",
    "        :type strs: List[str]\n",
    "        :rtype: str\n",
    "        \"\"\"\n",
    "        \n",
    "        l = len(strs)\n",
    "        prefix = strs[0]\n",
    "        \n",
    "        index = 0\n",
    "        for i, s in enumerate(prefix):\n",
    "            for j in range(1, l):\n",
    "                target = strs[j] \n",
    "                if i >= len(target) or s != target[i]:\n",
    "                    return i\n",
    "        \n",
    "        \n",
    "        return len(prefix)\n",
    "    \n",
    "    def longestCommonPrefix(self, strs):\n",
    "        \"\"\"\n",
    "        :type strs: List[str]\n",
    "        :rtype: str\n",
    "        \"\"\"\n",
    "        \n",
    "        if len(strs) == 0:\n",
    "            return \"\"\n",
    "        \n",
    "        index = Solution.findIndex(strs)\n",
    "        \n",
    "        return strs[0][0:index]"
   ]
  },
  {
   "cell_type": "code",
   "execution_count": null,
   "metadata": {},
   "outputs": [],
   "source": [
    "func = Solution().longestCommonPrefix\n",
    "eq(\"\", func([]))\n",
    "eq(\"12\", func([\"123\", \"12\"]))"
   ]
  }
 ],
 "metadata": {
  "kernelspec": {
   "display_name": "Python 3",
   "language": "python",
   "name": "python3"
  },
  "language_info": {
   "codemirror_mode": {
    "name": "ipython",
    "version": 3
   },
   "file_extension": ".py",
   "mimetype": "text/x-python",
   "name": "python",
   "nbconvert_exporter": "python",
   "pygments_lexer": "ipython3",
   "version": "3.6.1"
  }
 },
 "nbformat": 4,
 "nbformat_minor": 2
}
