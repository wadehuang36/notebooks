{
 "cells": [
  {
   "cell_type": "markdown",
   "metadata": {},
   "source": [
    "Source : https://leetcode.com/problems/add-two-numbers/\n",
    "You are given two linked lists representing two non-negative numbers. The digits are stored in reverse order and each of their nodes contain a single digit. Add the two numbers and return it as a linked list.\n",
    "\n",
    "Input: (2 -> 4 -> 3) + (5 -> 6 -> 4)\n",
    "Output: 7 -> 0 -> 8"
   ]
  },
  {
   "cell_type": "code",
   "execution_count": 1,
   "metadata": {
    "collapsed": true
   },
   "outputs": [],
   "source": [
    "class LinkedList(object):\n",
    "    def __init__(self, x, n=None):\n",
    "        self.val = x\n",
    "        self.next = n\n",
    "        \n",
    "    def toArray(self):\n",
    "        node = self;\n",
    "        arr = []\n",
    "        \n",
    "        while node is not None:\n",
    "            arr.append(node.val)\n",
    "            node = node.next\n",
    "        \n",
    "        return arr\n",
    "\n",
    "def addTwoNumbers(l1, l2):\n",
    "    result = LinkedList(0)\n",
    "    node = result\n",
    "    carry = 0\n",
    "    \n",
    "    while True:\n",
    "        v1 = carry\n",
    "        v2 = 0\n",
    "        if l1 is not None:\n",
    "            v1 += l1.val\n",
    "            l1 = l1.next\n",
    "\n",
    "        if l2 is not None:\n",
    "            v2 = l2.val\n",
    "            l2 = l2.next\n",
    "\n",
    "        sum = v1 + v2\n",
    "\n",
    "        if sum < 10:\n",
    "            carry = 0\n",
    "            newNode = LinkedList(sum)\n",
    "        else:\n",
    "            carry = 1\n",
    "            newNode = LinkedList(sum - 10)\n",
    "\n",
    "        node.next = newNode\n",
    "        node = newNode\n",
    "\n",
    "        if l1 is None and l2 is None:\n",
    "            if carry == 1:\n",
    "                node.next = LinkedList(1)\n",
    "\n",
    "            break\n",
    "\n",
    "    if result == node:\n",
    "        return result\n",
    "    else:\n",
    "        return result.next"
   ]
  },
  {
   "cell_type": "code",
   "execution_count": 2,
   "metadata": {
    "collapsed": false
   },
   "outputs": [],
   "source": [
    "from unittest import TestCase\n",
    "\n",
    "tc = TestCase()\n",
    "\n",
    "l1 = LinkedList(2, LinkedList(4, LinkedList(3)))\n",
    "l2 = LinkedList(5, LinkedList(6, LinkedList(4)))\n",
    "\n",
    "tc.assertEqual(addTwoNumbers(l1, l2).toArray(), [7, 0, 8])\n"
   ]
  }
 ],
 "metadata": {
  "kernelspec": {
   "display_name": "Python 3",
   "language": "python",
   "name": "python3"
  },
  "language_info": {
   "codemirror_mode": {
    "name": "ipython",
    "version": 3
   },
   "file_extension": ".py",
   "mimetype": "text/x-python",
   "name": "python",
   "nbconvert_exporter": "python",
   "pygments_lexer": "ipython3",
   "version": "3.6.0"
  }
 },
 "nbformat": 4,
 "nbformat_minor": 2
}
