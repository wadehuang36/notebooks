{
 "cells": [
  {
   "cell_type": "markdown",
   "metadata": {},
   "source": [
    "# from https://leetcode.com/problems/string-to-integer-atoi/description/"
   ]
  },
  {
   "cell_type": "code",
   "execution_count": 1,
   "metadata": {},
   "outputs": [
    {
     "data": {
      "application/javascript": [
       "IPython.notebook.set_autosave_interval(0)"
      ]
     },
     "metadata": {},
     "output_type": "display_data"
    },
    {
     "name": "stdout",
     "output_type": "stream",
     "text": [
      "Autosave disabled\n"
     ]
    }
   ],
   "source": [
    "%autosave 0\n",
    "%run helpers.py"
   ]
  },
  {
   "cell_type": "code",
   "execution_count": 2,
   "metadata": {
    "collapsed": true
   },
   "outputs": [],
   "source": [
    "class Solution(object):\n",
    "    def __init__(self):\n",
    "        self.maps = {\"0\": 0,\n",
    "                     \"1\": 1,\n",
    "                     \"2\": 2,\n",
    "                     \"3\": 3,\n",
    "                     \"4\": 4,\n",
    "                     \"5\": 5,\n",
    "                     \"6\": 6,\n",
    "                     \"7\": 7,\n",
    "                     \"8\": 8,\n",
    "                     \"9\": 9}\n",
    "        \n",
    "        self.int_max = 2 ** 31\n",
    "        self.int_min = -self.int_max\n",
    "        self.int_max = self.int_max - 1\n",
    "\n",
    "    def myAtoi(self, S):\n",
    "        \"\"\"\n",
    "        :type str: str\n",
    "        :rtype: int\n",
    "        \"\"\"\n",
    "        \n",
    "        if len(S) == 0:\n",
    "            return 0\n",
    "        \n",
    "        # remove left blankspace\n",
    "        while True:\n",
    "            if S[0] == \" \":\n",
    "                remove = True\n",
    "                if len(S) == 1: return 0\n",
    "                S = S[1:]\n",
    "            else:\n",
    "                break;\n",
    "                \n",
    "        # remove right blankspace\n",
    "        while True:\n",
    "            if S[-1] == \" \":\n",
    "                remove = True\n",
    "                S = S[0:-1]\n",
    "            else:\n",
    "                break;\n",
    "        \n",
    "        # remove sign        \n",
    "        remove = False\n",
    "        if S[0] == \"-\":\n",
    "            is_positive = False\n",
    "            remove = True\n",
    "        elif S[0] == \"+\":\n",
    "            is_positive = True\n",
    "            remove = True\n",
    "        else:\n",
    "            is_positive = True\n",
    "            \n",
    "        if remove:\n",
    "            if len(S) == 1: return 0\n",
    "            S = S[1:]\n",
    "\n",
    "        l = len(S) - 1\n",
    "        num = 0\n",
    "        for i, s in enumerate(S):\n",
    "            if s in self.maps:\n",
    "                n = self.maps[s]\n",
    "                num = num + (n * (10 ** (l - i)))\n",
    "            else:\n",
    "                # stop and remove zeros\n",
    "                num = int(num / (10 ** (l - i + 1)))\n",
    "                break;\n",
    "        num = num if is_positive else num * -1\n",
    "        \n",
    "        if num > self.int_max:\n",
    "            return self.int_max\n",
    "        elif num < self.int_min:\n",
    "            return self.int_min\n",
    "        else:\n",
    "            return num"
   ]
  },
  {
   "cell_type": "code",
   "execution_count": 3,
   "metadata": {
    "collapsed": true
   },
   "outputs": [],
   "source": [
    "func = Solution().myAtoi\n",
    "eq(0, func(\"\"))\n",
    "eq(123, func(\"123\"))\n",
    "eq(123, func(\"+123\"))\n",
    "eq(-123, func(\"-123\"))\n",
    "eq(0, func(\"+\"))\n",
    "eq(0, func(\"+-2\"))\n",
    "eq(123, func(\"   123\"))\n",
    "eq(-12, func(\"  -0012a42\"))\n",
    "eq(2147483647, func(\"2147483648\"))"
   ]
  }
 ],
 "metadata": {
  "kernelspec": {
   "display_name": "Python 3",
   "language": "python",
   "name": "python3"
  },
  "language_info": {
   "codemirror_mode": {
    "name": "ipython",
    "version": 3
   },
   "file_extension": ".py",
   "mimetype": "text/x-python",
   "name": "python",
   "nbconvert_exporter": "python",
   "pygments_lexer": "ipython3",
   "version": "3.6.1"
  }
 },
 "nbformat": 4,
 "nbformat_minor": 2
}
